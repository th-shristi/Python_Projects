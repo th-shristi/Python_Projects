{
  "nbformat": 4,
  "nbformat_minor": 0,
  "metadata": {
    "colab": {
      "provenance": [],
      "authorship_tag": "ABX9TyOagmXOWUFj8oQ3DINBYykM",
      "include_colab_link": true
    },
    "kernelspec": {
      "name": "python3",
      "display_name": "Python 3"
    },
    "language_info": {
      "name": "python"
    }
  },
  "cells": [
    {
      "cell_type": "markdown",
      "metadata": {
        "id": "view-in-github",
        "colab_type": "text"
      },
      "source": [
        "<a href=\"https://colab.research.google.com/github/th-shristi/Python_Projects/blob/main/MusicRecommendationSystem.ipynb\" target=\"_parent\"><img src=\"https://colab.research.google.com/assets/colab-badge.svg\" alt=\"Open In Colab\"/></a>"
      ]
    },
    {
      "cell_type": "code",
      "execution_count": 46,
      "metadata": {
        "colab": {
          "base_uri": "https://localhost:8080/"
        },
        "id": "0AdvalCOuFLh",
        "outputId": "b6964664-2680-497c-cdb1-553c37f45db0"
      },
      "outputs": [
        {
          "output_type": "stream",
          "name": "stdout",
          "text": [
            "Requirement already satisfied: requests in /usr/local/lib/python3.10/dist-packages (2.31.0)\n",
            "Requirement already satisfied: charset-normalizer<4,>=2 in /usr/local/lib/python3.10/dist-packages (from requests) (3.3.2)\n",
            "Requirement already satisfied: idna<4,>=2.5 in /usr/local/lib/python3.10/dist-packages (from requests) (3.7)\n",
            "Requirement already satisfied: urllib3<3,>=1.21.1 in /usr/local/lib/python3.10/dist-packages (from requests) (2.0.7)\n",
            "Requirement already satisfied: certifi>=2017.4.17 in /usr/local/lib/python3.10/dist-packages (from requests) (2024.7.4)\n"
          ]
        }
      ],
      "source": [
        "pip install requests"
      ]
    },
    {
      "cell_type": "code",
      "source": [
        "import requests\n",
        "import base64\n",
        "\n",
        "# Replace with Client ID and Client Secret (Spotify Developer's Dashboard)\n",
        "CLIENT_ID = '4234c12fa1db4876b02a6e43412f7ef0'\n",
        "CLIENT_SECRET = 'eaeb78cf66074bb5957407436babd69e'\n",
        "\n",
        "client_credentials = f\"{CLIENT_ID}:{CLIENT_SECRET}\"\n",
        "client_credentials_base64 = base64.b64encode(client_credentials.encode())\n",
        "\n",
        "token_url = 'https://accounts.spotify.com/api/token'\n",
        "headers = {\n",
        "    'Authorization': f'Basic {client_credentials_base64.decode()}'\n",
        "}\n",
        "data = {\n",
        "    'grant_type': 'client_credentials'\n",
        "}\n",
        "response = requests.post(token_url, data=data, headers=headers)\n",
        "\n",
        "if response.status_code == 200:\n",
        "    access_token = response.json()['access_token']\n",
        "    print(\"Access token obtained successfully.\")\n",
        "else:\n",
        "    print(\"Error obtaining access token.\")\n",
        "    exit()"
      ],
      "metadata": {
        "colab": {
          "base_uri": "https://localhost:8080/"
        },
        "id": "pmNkNoFZuI3b",
        "outputId": "4b5f8fd8-b113-475c-e55d-d163071698b9"
      },
      "execution_count": 47,
      "outputs": [
        {
          "output_type": "stream",
          "name": "stdout",
          "text": [
            "Access token obtained successfully.\n"
          ]
        }
      ]
    },
    {
      "cell_type": "code",
      "source": [
        "#Installing Spotify API\n",
        "!pip install spotipy"
      ],
      "metadata": {
        "colab": {
          "base_uri": "https://localhost:8080/"
        },
        "id": "8-LBE3iwuaMu",
        "outputId": "2cfc1152-a0e6-47bf-c240-64c04f7db33c"
      },
      "execution_count": 48,
      "outputs": [
        {
          "output_type": "stream",
          "name": "stdout",
          "text": [
            "Requirement already satisfied: spotipy in /usr/local/lib/python3.10/dist-packages (2.24.0)\n",
            "Requirement already satisfied: redis>=3.5.3 in /usr/local/lib/python3.10/dist-packages (from spotipy) (5.0.7)\n",
            "Requirement already satisfied: requests>=2.25.0 in /usr/local/lib/python3.10/dist-packages (from spotipy) (2.31.0)\n",
            "Requirement already satisfied: urllib3>=1.26.0 in /usr/local/lib/python3.10/dist-packages (from spotipy) (2.0.7)\n",
            "Requirement already satisfied: async-timeout>=4.0.3 in /usr/local/lib/python3.10/dist-packages (from redis>=3.5.3->spotipy) (4.0.3)\n",
            "Requirement already satisfied: charset-normalizer<4,>=2 in /usr/local/lib/python3.10/dist-packages (from requests>=2.25.0->spotipy) (3.3.2)\n",
            "Requirement already satisfied: idna<4,>=2.5 in /usr/local/lib/python3.10/dist-packages (from requests>=2.25.0->spotipy) (3.7)\n",
            "Requirement already satisfied: certifi>=2017.4.17 in /usr/local/lib/python3.10/dist-packages (from requests>=2.25.0->spotipy) (2024.7.4)\n"
          ]
        }
      ]
    },
    {
      "cell_type": "code",
      "source": [
        "import pandas as pd\n",
        "import spotipy\n",
        "from spotipy.oauth2 import SpotifyOAuth\n",
        "\n",
        "def get_trending_playlist_data(playlist_id, access_token):\n",
        "    sp = spotipy.Spotify(auth=access_token)\n",
        "    playlist_tracks = sp.playlist_tracks(playlist_id, fields='items(track(id, name, artists, album(id, name)))')\n",
        "    music_data = []\n",
        "    for track_info in playlist_tracks['items']:\n",
        "        track = track_info['track']\n",
        "        track_name = track['name']\n",
        "        artists = ', '.join([artist['name'] for artist in track['artists']])\n",
        "        album_name = track['album']['name']\n",
        "        album_id = track['album']['id']\n",
        "        track_id = track['id']\n",
        "        audio_features = sp.audio_features(track_id)[0] if track_id != 'Not available' else None\n",
        "\n",
        "        try:\n",
        "            album_info = sp.album(album_id) if album_id != 'Not available' else None\n",
        "            release_date = album_info['release_date'] if album_info else None\n",
        "        except:\n",
        "            release_date = None\n",
        "\n",
        "        try:\n",
        "            track_info = sp.track(track_id) if track_id != 'Not available' else None\n",
        "            popularity = track_info['popularity'] if track_info else None\n",
        "        except:\n",
        "            popularity = None\n",
        "\n",
        "        track_data = {\n",
        "            'Track Name': track_name,\n",
        "            'Artists': artists,\n",
        "            'Album Name': album_name,\n",
        "            'Album ID': album_id,\n",
        "            'Track ID': track_id,\n",
        "            'Popularity': popularity,\n",
        "            'Release Date': release_date,\n",
        "            'Duration (ms)': audio_features['duration_ms'] if audio_features else None,\n",
        "            'Explicit': track_info.get('explicit', None),\n",
        "            'External URLs': track_info.get('external_urls', {}).get('spotify', None),\n",
        "            'Danceability': audio_features['danceability'] if audio_features else None,\n",
        "            'Energy': audio_features['energy'] if audio_features else None,\n",
        "            'Key': audio_features['key'] if audio_features else None,\n",
        "            'Loudness': audio_features['loudness'] if audio_features else None,\n",
        "            'Mode': audio_features['mode'] if audio_features else None,\n",
        "            'Speechiness': audio_features['speechiness'] if audio_features else None,\n",
        "            'Acousticness': audio_features['acousticness'] if audio_features else None,\n",
        "            'Instrumentalness': audio_features['instrumentalness'] if audio_features else None,\n",
        "            'Liveness': audio_features['liveness'] if audio_features else None,\n",
        "            'Valence': audio_features['valence'] if audio_features else None,\n",
        "            'Tempo': audio_features['tempo'] if audio_features else None,\n",
        "        }\n",
        "\n",
        "        music_data.append(track_data)\n",
        "    df = pd.DataFrame(music_data)\n",
        "\n",
        "    return df"
      ],
      "metadata": {
        "id": "psXkUfzIucRN"
      },
      "execution_count": 49,
      "outputs": []
    },
    {
      "cell_type": "code",
      "source": [
        "playlist_id = '2WE9MMzipf5rxx0VqzrRaL'\n",
        "music_df = get_trending_playlist_data(playlist_id, access_token)\n",
        "\n",
        "print(music_df)"
      ],
      "metadata": {
        "id": "SPRiJeYqulJj",
        "colab": {
          "base_uri": "https://localhost:8080/"
        },
        "outputId": "589cfa8b-bcde-4acf-97cb-ad025ace4ce7"
      },
      "execution_count": 50,
      "outputs": [
        {
          "output_type": "stream",
          "name": "stdout",
          "text": [
            "                  Track Name                        Artists  \\\n",
            "0       Khaare Raste Reprise  Raghav Kaushik, Yashika Sikka   \n",
            "1                      Khwab         Iqlipse Nova, Aditya A   \n",
            "2              Na Tum Saamne           Joell, Yashika Sikka   \n",
            "3        Meri Baaton Mein Tu                      Anuv Jain   \n",
            "4                     Sheher  Ishpreet Singh, Shivam Bakshi   \n",
            "..                       ...                            ...   \n",
            "95         Aankhon Se Batana                       Dikshant   \n",
            "96                     Zakir                       NAALAYAK   \n",
            "97  Kya Tum Naraaz Ho? (Raw)              Tanmaya Bhatnagar   \n",
            "98          Zakir - Acoustic                       NAALAYAK   \n",
            "99   Alag Aasmaan (Acoustic)                      Anuv Jain   \n",
            "\n",
            "                  Album Name                Album ID                Track ID  \\\n",
            "0     Khaare Raste (Reprise)  3x5auu0qKERGJGAzrTXUuQ  0Mu086dhKSPI6118hpwuMP   \n",
            "1                      Khwab  0ICe966bo3oNsHRIBp4aQ7  59alvnjzlbX6LaHhXGDZYv   \n",
            "2              Na Tum Saamne  5TACPWAxlXxjGPIKbHOYA9  1oCkc96iBiOiyydlbiHRGE   \n",
            "3        Meri Baaton Mein Tu  2Cm69fZkrq4zy0Yun0M54G  1xSKxa1J5NHMQBX4wMZW2g   \n",
            "4                      Saaye  7GDtpSLGEvIpODZ3vV3UK1  2hOsCTO2RqE7HPIc66Lebd   \n",
            "..                       ...                     ...                     ...   \n",
            "95         Aankhon Se Batana  57FSK7an8LmvStMZviJ8Ws  1ZiReD9pPTttQWwSoYqdyH   \n",
            "96                     Zakir  2EsxYdY99R9jF31YveCUZN  6RtnuC14DOUrvpRgS6WMQX   \n",
            "97  Kya Tum Naraaz Ho? (Raw)  6jN4E5miEwdQBUqU0HP0Dg  2rjCLFdX8n9xLoMZgdMMxt   \n",
            "98          Zakir (Acoustic)  4QkAfzvDWHtFZonTbruA2E  2qGFXgaIM0EJxrBe5mtnZM   \n",
            "99   Alag Aasmaan (Acoustic)  6o0udgyHVEdegUKzU2sh89  1gxmaTGnxEgZuV8485tevN   \n",
            "\n",
            "    Popularity Release Date  Duration (ms)  Explicit  \\\n",
            "0           33   2022-08-12         184478     False   \n",
            "1           67   2023-03-02         158911     False   \n",
            "2           26   2021-02-18         180080     False   \n",
            "3           57   2022-03-04         214000     False   \n",
            "4           29   2021-06-30         203836     False   \n",
            "..         ...          ...            ...       ...   \n",
            "95          67   2022-04-12         221271     False   \n",
            "96           0   2021-04-02         221667     False   \n",
            "97          39   2020-04-10         212530     False   \n",
            "98           0   2021-05-26         210000     False   \n",
            "99           0   2021-11-19         211579     False   \n",
            "\n",
            "                                        External URLs  ...  Energy  Key  \\\n",
            "0   https://open.spotify.com/track/0Mu086dhKSPI611...  ...   0.188   11   \n",
            "1   https://open.spotify.com/track/59alvnjzlbX6LaH...  ...   0.315   10   \n",
            "2   https://open.spotify.com/track/1oCkc96iBiOiyyd...  ...   0.272    6   \n",
            "3   https://open.spotify.com/track/1xSKxa1J5NHMQBX...  ...   0.454    0   \n",
            "4   https://open.spotify.com/track/2hOsCTO2RqE7HPI...  ...   0.143   11   \n",
            "..                                                ...  ...     ...  ...   \n",
            "95  https://open.spotify.com/track/1ZiReD9pPTttQWw...  ...   0.307   10   \n",
            "96  https://open.spotify.com/track/6RtnuC14DOUrvpR...  ...   0.508    7   \n",
            "97  https://open.spotify.com/track/2rjCLFdX8n9xLoM...  ...   0.112    1   \n",
            "98  https://open.spotify.com/track/2qGFXgaIM0EJxrB...  ...   0.288    7   \n",
            "99  https://open.spotify.com/track/1gxmaTGnxEgZuV8...  ...   0.103    5   \n",
            "\n",
            "    Loudness  Mode  Speechiness  Acousticness  Instrumentalness  Liveness  \\\n",
            "0    -13.830     1       0.0337         0.968          0.010200    0.0713   \n",
            "1    -10.168     1       0.0503         0.932          0.000000    0.3920   \n",
            "2    -11.937     1       0.0335         0.969          0.000053    0.1120   \n",
            "3     -9.813     1       0.0302         0.431          0.000000    0.1440   \n",
            "4    -16.588     1       0.0428         0.822          0.000035    0.0968   \n",
            "..       ...   ...          ...           ...               ...       ...   \n",
            "95   -11.361     1       0.0334         0.791          0.000000    0.1100   \n",
            "96    -8.489     1       0.0343         0.275          0.000008    0.0809   \n",
            "97   -16.506     1       0.0322         0.924          0.000001    0.1160   \n",
            "98    -9.831     1       0.0387         0.712          0.000000    0.0646   \n",
            "99   -13.387     1       0.0435         0.921          0.000001    0.1070   \n",
            "\n",
            "    Valence    Tempo  \n",
            "0     0.258  134.451  \n",
            "1     0.659  113.695  \n",
            "2     0.484  120.097  \n",
            "3     0.228  142.884  \n",
            "4     0.196   72.998  \n",
            "..      ...      ...  \n",
            "95    0.335  177.808  \n",
            "96    0.327  144.106  \n",
            "97    0.296   97.118  \n",
            "98    0.438  144.074  \n",
            "99    0.668  115.732  \n",
            "\n",
            "[100 rows x 21 columns]\n"
          ]
        }
      ]
    },
    {
      "cell_type": "code",
      "source": [
        "print(music_df.isnull().sum())"
      ],
      "metadata": {
        "id": "15ByvQLqvChq",
        "colab": {
          "base_uri": "https://localhost:8080/"
        },
        "outputId": "931fbc80-c842-4e33-b41d-b7b748dfe2ab"
      },
      "execution_count": 51,
      "outputs": [
        {
          "output_type": "stream",
          "name": "stdout",
          "text": [
            "Track Name          0\n",
            "Artists             0\n",
            "Album Name          0\n",
            "Album ID            0\n",
            "Track ID            0\n",
            "Popularity          0\n",
            "Release Date        0\n",
            "Duration (ms)       0\n",
            "Explicit            0\n",
            "External URLs       0\n",
            "Danceability        0\n",
            "Energy              0\n",
            "Key                 0\n",
            "Loudness            0\n",
            "Mode                0\n",
            "Speechiness         0\n",
            "Acousticness        0\n",
            "Instrumentalness    0\n",
            "Liveness            0\n",
            "Valence             0\n",
            "Tempo               0\n",
            "dtype: int64\n"
          ]
        }
      ]
    },
    {
      "cell_type": "code",
      "source": [
        "#Importing libraries\n",
        "import pandas as pd\n",
        "import numpy as np\n",
        "from sklearn.model_selection import train_test_split\n",
        "from sklearn.preprocessing import MinMaxScaler\n",
        "from datetime import datetime\n",
        "from sklearn.metrics.pairwise import cosine_similarity\n",
        "\n",
        "data = music_df"
      ],
      "metadata": {
        "id": "of0saxCJvc58"
      },
      "execution_count": 52,
      "outputs": []
    },
    {
      "cell_type": "code",
      "source": [
        "def calculate_weighted_popularity(release_date):\n",
        "    release_date = datetime.strptime(release_date, '%Y-%m-%d')\n",
        "    time_span = datetime.now() - release_date\n",
        "    weight = 1 / (time_span.days + 1)\n",
        "    return weight"
      ],
      "metadata": {
        "id": "sAOY0p3Zvhw8"
      },
      "execution_count": 53,
      "outputs": []
    },
    {
      "cell_type": "code",
      "source": [
        "scaler = MinMaxScaler()\n",
        "music_features = music_df[['Danceability', 'Energy', 'Key',\n",
        "                           'Loudness', 'Mode', 'Speechiness', 'Acousticness',\n",
        "                           'Instrumentalness', 'Liveness', 'Valence', 'Tempo']].values\n",
        "music_features_scaled = scaler.fit_transform(music_features)\n"
      ],
      "metadata": {
        "id": "b9SC7rHsvuD6"
      },
      "execution_count": 54,
      "outputs": []
    },
    {
      "cell_type": "code",
      "source": [
        "def content_based_recommendations(input_song_name, num_recommendations=5):\n",
        "    if input_song_name not in music_df['Track Name'].values:\n",
        "        print(f\"'{input_song_name}' not found in the dataset. Please enter a valid song name.\")\n",
        "        return\n",
        "    input_song_index = music_df[music_df['Track Name'] == input_song_name].index[0]\n",
        "    similarity_scores = cosine_similarity([music_features_scaled[input_song_index]], music_features_scaled)\n",
        "    similar_song_indices = similarity_scores.argsort()[0][::-1][1:num_recommendations + 1]\n",
        "    content_based_recommendations = music_df.iloc[similar_song_indices][['Track Name', 'Artists', 'Album Name', 'Release Date', 'Popularity']]\n",
        "    return content_based_recommendations\n"
      ],
      "metadata": {
        "id": "DuSw_8pyv2XU"
      },
      "execution_count": 55,
      "outputs": []
    },
    {
      "cell_type": "code",
      "source": [
        "def hybrid_recommendations(input_song_name, num_recommendations=5, alpha=0.5):\n",
        "    if input_song_name not in music_df['Track Name'].values:\n",
        "        print(f\"'{input_song_name}' not found in the dataset. Please enter a valid song name.\")\n",
        "        return\n",
        "\n",
        "    # Get content-based recommendations\n",
        "    content_based_rec = content_based_recommendations(input_song_name, num_recommendations)\n",
        "\n",
        "    # Get the popularity score of the input song\n",
        "    popularity_score = music_df.loc[music_df['Track Name'] == input_song_name, 'Popularity'].values[0]\n",
        "\n",
        "    # Calculate the weighted popularity score\n",
        "    weighted_popularity_score = popularity_score * calculate_weighted_popularity(music_df.loc[music_df['Track Name'] == input_song_name, 'Release Date'].values[0])\n",
        "\n",
        "    # Combine content-based and popularity-based recommendations based on weighted popularity\n",
        "    hybrid_recommendations = content_based_rec\n",
        "    new_entry = pd.DataFrame([{\n",
        "        'Track Name': input_song_name,\n",
        "        'Artists': music_df.loc[music_df['Track Name'] == input_song_name, 'Artists'].values[0],\n",
        "        'Album Name': music_df.loc[music_df['Track Name'] == input_song_name, 'Album Name'].values[0],\n",
        "        'Release Date': music_df.loc[music_df['Track Name'] == input_song_name, 'Release Date'].values[0],\n",
        "        'Popularity': weighted_popularity_score\n",
        "    }])\n",
        "    hybrid_recommendations = pd.concat([hybrid_recommendations, new_entry], ignore_index=True)\n",
        "\n",
        "    # Sort the hybrid recommendations based on weighted popularity score\n",
        "    hybrid_recommendations = hybrid_recommendations.sort_values(by='Popularity', ascending=False)\n",
        "\n",
        "    # Remove the input song from the recommendations\n",
        "    hybrid_recommendations = hybrid_recommendations[hybrid_recommendations['Track Name'] != input_song_name]\n",
        "\n",
        "    return hybrid_recommendations"
      ],
      "metadata": {
        "id": "bD0TUJi8v-mf"
      },
      "execution_count": 56,
      "outputs": []
    },
    {
      "cell_type": "code",
      "source": [
        "input_song_name = \"Meri Baaton Mein Tu\"\n",
        "recommendations = hybrid_recommendations(input_song_name, num_recommendations=5)\n",
        "print(f\"Hybrid recommended songs for '{input_song_name}':\")\n",
        "print(recommendations)"
      ],
      "metadata": {
        "id": "cNL0A-hzwGB1",
        "colab": {
          "base_uri": "https://localhost:8080/"
        },
        "outputId": "6d33c9a5-1580-4e98-bfac-436ea050d92b"
      },
      "execution_count": 65,
      "outputs": [
        {
          "output_type": "stream",
          "name": "stdout",
          "text": [
            "Hybrid recommended songs for 'Meri Baaton Mein Tu':\n",
            "       Track Name          Artists      Album Name Release Date  Popularity\n",
            "4  Pardes Katenda      Adnan Dhool  Pardes Katenda   2023-06-16        55.0\n",
            "3         Kahaani       Dream Note         Kahaani   2022-04-21        51.0\n",
            "2   Tere Jaane Se  Anurag Vashisht   Tere Jaane Se   2020-01-31        49.0\n",
            "1          Khabar     Twin Strings          Khabar   2022-07-01        45.0\n",
            "0    Ruk Jao Yahi  Anurag Vashisht    Ruk Jao Yahi   2019-02-12        19.0\n"
          ]
        }
      ]
    },
    {
      "cell_type": "code",
      "source": [],
      "metadata": {
        "id": "E6SIFgoaw4a2"
      },
      "execution_count": 57,
      "outputs": []
    }
  ]
}